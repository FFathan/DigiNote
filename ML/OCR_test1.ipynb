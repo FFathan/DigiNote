{
  "nbformat": 4,
  "nbformat_minor": 0,
  "metadata": {
    "colab": {
      "provenance": [],
      "gpuType": "T4"
    },
    "kernelspec": {
      "name": "python3",
      "display_name": "Python 3"
    },
    "language_info": {
      "name": "python"
    },
    "accelerator": "GPU"
  },
  "cells": [
    {
      "cell_type": "code",
      "execution_count": 1,
      "metadata": {
        "id": "_ET-gbBPrXDa"
      },
      "outputs": [],
      "source": [
        "import os\n",
        "import cv2\n",
        "import random\n",
        "import numpy as np\n",
        "import pandas as pd\n",
        "import matplotlib.pyplot as plt\n",
        "import zipfile\n",
        "\n",
        "import tensorflow as tf\n",
        "from keras import backend as K\n",
        "from keras.models import Model\n",
        "from keras.layers import Input, Conv2D, MaxPooling2D, Reshape, Bidirectional, LSTM, Dense, Lambda, Activation, BatchNormalization, Dropout\n",
        "from keras.optimizers import Adam\n",
        "tf.config.run_functions_eagerly(True)"
      ]
    },
    {
      "cell_type": "code",
      "source": [
        "#install kaggle untuk download dataset\n",
        "! pip install -q kaggle\n",
        "\n",
        "from google.colab import files\n",
        "\n",
        "#upload kaggle API\n",
        "files.upload()"
      ],
      "metadata": {
        "colab": {
          "base_uri": "https://localhost:8080/",
          "height": 91
        },
        "id": "kbPtKLRNsEOI",
        "outputId": "b4851434-45c4-4be3-f584-c2f99f717a23"
      },
      "execution_count": 2,
      "outputs": [
        {
          "output_type": "display_data",
          "data": {
            "text/plain": [
              "<IPython.core.display.HTML object>"
            ],
            "text/html": [
              "\n",
              "     <input type=\"file\" id=\"files-885b869c-2ed2-40f7-86bb-112ef48fde55\" name=\"files[]\" multiple disabled\n",
              "        style=\"border:none\" />\n",
              "     <output id=\"result-885b869c-2ed2-40f7-86bb-112ef48fde55\">\n",
              "      Upload widget is only available when the cell has been executed in the\n",
              "      current browser session. Please rerun this cell to enable.\n",
              "      </output>\n",
              "      <script>// Copyright 2017 Google LLC\n",
              "//\n",
              "// Licensed under the Apache License, Version 2.0 (the \"License\");\n",
              "// you may not use this file except in compliance with the License.\n",
              "// You may obtain a copy of the License at\n",
              "//\n",
              "//      http://www.apache.org/licenses/LICENSE-2.0\n",
              "//\n",
              "// Unless required by applicable law or agreed to in writing, software\n",
              "// distributed under the License is distributed on an \"AS IS\" BASIS,\n",
              "// WITHOUT WARRANTIES OR CONDITIONS OF ANY KIND, either express or implied.\n",
              "// See the License for the specific language governing permissions and\n",
              "// limitations under the License.\n",
              "\n",
              "/**\n",
              " * @fileoverview Helpers for google.colab Python module.\n",
              " */\n",
              "(function(scope) {\n",
              "function span(text, styleAttributes = {}) {\n",
              "  const element = document.createElement('span');\n",
              "  element.textContent = text;\n",
              "  for (const key of Object.keys(styleAttributes)) {\n",
              "    element.style[key] = styleAttributes[key];\n",
              "  }\n",
              "  return element;\n",
              "}\n",
              "\n",
              "// Max number of bytes which will be uploaded at a time.\n",
              "const MAX_PAYLOAD_SIZE = 100 * 1024;\n",
              "\n",
              "function _uploadFiles(inputId, outputId) {\n",
              "  const steps = uploadFilesStep(inputId, outputId);\n",
              "  const outputElement = document.getElementById(outputId);\n",
              "  // Cache steps on the outputElement to make it available for the next call\n",
              "  // to uploadFilesContinue from Python.\n",
              "  outputElement.steps = steps;\n",
              "\n",
              "  return _uploadFilesContinue(outputId);\n",
              "}\n",
              "\n",
              "// This is roughly an async generator (not supported in the browser yet),\n",
              "// where there are multiple asynchronous steps and the Python side is going\n",
              "// to poll for completion of each step.\n",
              "// This uses a Promise to block the python side on completion of each step,\n",
              "// then passes the result of the previous step as the input to the next step.\n",
              "function _uploadFilesContinue(outputId) {\n",
              "  const outputElement = document.getElementById(outputId);\n",
              "  const steps = outputElement.steps;\n",
              "\n",
              "  const next = steps.next(outputElement.lastPromiseValue);\n",
              "  return Promise.resolve(next.value.promise).then((value) => {\n",
              "    // Cache the last promise value to make it available to the next\n",
              "    // step of the generator.\n",
              "    outputElement.lastPromiseValue = value;\n",
              "    return next.value.response;\n",
              "  });\n",
              "}\n",
              "\n",
              "/**\n",
              " * Generator function which is called between each async step of the upload\n",
              " * process.\n",
              " * @param {string} inputId Element ID of the input file picker element.\n",
              " * @param {string} outputId Element ID of the output display.\n",
              " * @return {!Iterable<!Object>} Iterable of next steps.\n",
              " */\n",
              "function* uploadFilesStep(inputId, outputId) {\n",
              "  const inputElement = document.getElementById(inputId);\n",
              "  inputElement.disabled = false;\n",
              "\n",
              "  const outputElement = document.getElementById(outputId);\n",
              "  outputElement.innerHTML = '';\n",
              "\n",
              "  const pickedPromise = new Promise((resolve) => {\n",
              "    inputElement.addEventListener('change', (e) => {\n",
              "      resolve(e.target.files);\n",
              "    });\n",
              "  });\n",
              "\n",
              "  const cancel = document.createElement('button');\n",
              "  inputElement.parentElement.appendChild(cancel);\n",
              "  cancel.textContent = 'Cancel upload';\n",
              "  const cancelPromise = new Promise((resolve) => {\n",
              "    cancel.onclick = () => {\n",
              "      resolve(null);\n",
              "    };\n",
              "  });\n",
              "\n",
              "  // Wait for the user to pick the files.\n",
              "  const files = yield {\n",
              "    promise: Promise.race([pickedPromise, cancelPromise]),\n",
              "    response: {\n",
              "      action: 'starting',\n",
              "    }\n",
              "  };\n",
              "\n",
              "  cancel.remove();\n",
              "\n",
              "  // Disable the input element since further picks are not allowed.\n",
              "  inputElement.disabled = true;\n",
              "\n",
              "  if (!files) {\n",
              "    return {\n",
              "      response: {\n",
              "        action: 'complete',\n",
              "      }\n",
              "    };\n",
              "  }\n",
              "\n",
              "  for (const file of files) {\n",
              "    const li = document.createElement('li');\n",
              "    li.append(span(file.name, {fontWeight: 'bold'}));\n",
              "    li.append(span(\n",
              "        `(${file.type || 'n/a'}) - ${file.size} bytes, ` +\n",
              "        `last modified: ${\n",
              "            file.lastModifiedDate ? file.lastModifiedDate.toLocaleDateString() :\n",
              "                                    'n/a'} - `));\n",
              "    const percent = span('0% done');\n",
              "    li.appendChild(percent);\n",
              "\n",
              "    outputElement.appendChild(li);\n",
              "\n",
              "    const fileDataPromise = new Promise((resolve) => {\n",
              "      const reader = new FileReader();\n",
              "      reader.onload = (e) => {\n",
              "        resolve(e.target.result);\n",
              "      };\n",
              "      reader.readAsArrayBuffer(file);\n",
              "    });\n",
              "    // Wait for the data to be ready.\n",
              "    let fileData = yield {\n",
              "      promise: fileDataPromise,\n",
              "      response: {\n",
              "        action: 'continue',\n",
              "      }\n",
              "    };\n",
              "\n",
              "    // Use a chunked sending to avoid message size limits. See b/62115660.\n",
              "    let position = 0;\n",
              "    do {\n",
              "      const length = Math.min(fileData.byteLength - position, MAX_PAYLOAD_SIZE);\n",
              "      const chunk = new Uint8Array(fileData, position, length);\n",
              "      position += length;\n",
              "\n",
              "      const base64 = btoa(String.fromCharCode.apply(null, chunk));\n",
              "      yield {\n",
              "        response: {\n",
              "          action: 'append',\n",
              "          file: file.name,\n",
              "          data: base64,\n",
              "        },\n",
              "      };\n",
              "\n",
              "      let percentDone = fileData.byteLength === 0 ?\n",
              "          100 :\n",
              "          Math.round((position / fileData.byteLength) * 100);\n",
              "      percent.textContent = `${percentDone}% done`;\n",
              "\n",
              "    } while (position < fileData.byteLength);\n",
              "  }\n",
              "\n",
              "  // All done.\n",
              "  yield {\n",
              "    response: {\n",
              "      action: 'complete',\n",
              "    }\n",
              "  };\n",
              "}\n",
              "\n",
              "scope.google = scope.google || {};\n",
              "scope.google.colab = scope.google.colab || {};\n",
              "scope.google.colab._files = {\n",
              "  _uploadFiles,\n",
              "  _uploadFilesContinue,\n",
              "};\n",
              "})(self);\n",
              "</script> "
            ]
          },
          "metadata": {}
        },
        {
          "output_type": "stream",
          "name": "stdout",
          "text": [
            "Saving kaggle.json to kaggle.json\n"
          ]
        },
        {
          "output_type": "execute_result",
          "data": {
            "text/plain": [
              "{'kaggle.json': b'{\"username\":\"rizkysanjaya\",\"key\":\"fe961784f1a9dad2bdef3fa0df36b89f\"}'}"
            ]
          },
          "metadata": {},
          "execution_count": 2
        }
      ]
    },
    {
      "cell_type": "code",
      "source": [
        "#buat directory kaggle\n",
        "! mkdir ~/.kaggle\n",
        "\n",
        "! cp kaggle.json ~/.kaggle/\n",
        "! chmod 600 ~/.kaggle/kaggle.json"
      ],
      "metadata": {
        "colab": {
          "base_uri": "https://localhost:8080/"
        },
        "id": "YcTAn7oMsp4r",
        "outputId": "27b5b988-3ed8-4858-fb7c-f769fe3ac268"
      },
      "execution_count": 4,
      "outputs": [
        {
          "output_type": "stream",
          "name": "stdout",
          "text": [
            "mkdir: cannot create directory ‘/root/.kaggle’: File exists\n"
          ]
        }
      ]
    },
    {
      "cell_type": "code",
      "source": [
        "# Download the dataset\n",
        "!kaggle datasets download -d landlord/handwriting-recognition"
      ],
      "metadata": {
        "colab": {
          "base_uri": "https://localhost:8080/"
        },
        "id": "T02-TCO-s5JK",
        "outputId": "e3618eaf-c95d-4542-c008-97f9cf3caa95"
      },
      "execution_count": 5,
      "outputs": [
        {
          "output_type": "stream",
          "name": "stdout",
          "text": [
            "Downloading handwriting-recognition.zip to /content\n",
            "100% 1.26G/1.26G [00:45<00:00, 40.2MB/s]\n",
            "100% 1.26G/1.26G [00:45<00:00, 30.0MB/s]\n"
          ]
        }
      ]
    },
    {
      "cell_type": "code",
      "source": [
        "#extract zip dan pindahkan ke direktori baru\n",
        "!mkdir Dataset\n",
        "with zipfile.ZipFile(\"/content/handwriting-recognition.zip\", \"r\") as zip_ref:\n",
        "    zip_ref.extractall(\"/content/Dataset\")\n",
        "\n",
        "# Delete the zip file\n",
        "os.remove(\"/content/handwriting-recognition.zip\")"
      ],
      "metadata": {
        "id": "fk27deZltM3l"
      },
      "execution_count": 6,
      "outputs": []
    },
    {
      "cell_type": "code",
      "source": [
        "#pisah data dan view data\n",
        "train = pd.read_csv('/content/Dataset/written_name_train_v2.csv')\n",
        "valid = pd.read_csv('/content/Dataset/written_name_validation_v2.csv')"
      ],
      "metadata": {
        "id": "tL1KY7gvrkJm"
      },
      "execution_count": 2,
      "outputs": []
    },
    {
      "cell_type": "code",
      "source": [
        "#preview sample data\n",
        "plt.figure(figsize=(15, 10))\n",
        "\n",
        "for i in range(8):\n",
        "    ax = plt.subplot(2, 4, i+1)\n",
        "    img_dir = '/content/Dataset/train_v2/train/'+train.loc[i, 'FILENAME']\n",
        "    image = cv2.imread(img_dir, cv2.IMREAD_GRAYSCALE)\n",
        "    plt.imshow(image, cmap = 'gray')\n",
        "    plt.title(train.loc[i, 'IDENTITY'], fontsize=12)\n",
        "    plt.axis('off')\n",
        "\n",
        "plt.subplots_adjust(wspace=0.2, hspace=-0.8)"
      ],
      "metadata": {
        "colab": {
          "base_uri": "https://localhost:8080/",
          "height": 194
        },
        "id": "dz35uk14vw_d",
        "outputId": "5a10768f-7caf-433a-8089-c5beff7b3050"
      },
      "execution_count": 3,
      "outputs": [
        {
          "output_type": "display_data",
          "data": {
            "text/plain": [
              "<Figure size 1500x1000 with 8 Axes>"
            ],
            "image/png": "[encoded data removed]"
          },
          "metadata": {}
        }
      ]
    },
    {
      "cell_type": "code",
      "source": [
        "#cleaning process\n",
        "\n",
        "# cek value kosong pada kolom train dan validation\n",
        "train_missing_values = train.isnull().sum()\n",
        "valid_missing_values = valid.isnull().sum()\n",
        "\n",
        "# Hapus baris dengan value kosong\n",
        "train.dropna(inplace=True)\n",
        "valid.dropna(inplace=True)\n",
        "\n",
        "# cek apakah data kosong sudah terhapus\n",
        "train_missing_values_after_removal = train.isnull().sum()\n",
        "valid_missing_values_after_removal = valid.isnull().sum()\n",
        "\n",
        "# Print the number of missing values before and after removal\n",
        "print(\"Train Missing values before removal:\\n\", train_missing_values)\n",
        "print(\"Valid Missing values before removal:\\n\", valid_missing_values)\n",
        "print(\"\\nTrain Missing values after removal:\\n\", train_missing_values_after_removal)\n",
        "print(\"\\nValid Missing values after removal:\\n\", valid_missing_values_after_removal)\n",
        "\n",
        "\n",
        "\n"
      ],
      "metadata": {
        "colab": {
          "base_uri": "https://localhost:8080/"
        },
        "id": "9wdQdUWxwSpL",
        "outputId": "5bafaa20-1393-4d0e-b645-97c7734ee274"
      },
      "execution_count": 4,
      "outputs": [
        {
          "output_type": "stream",
          "name": "stdout",
          "text": [
            "Train Missing values before removal:\n",
            " FILENAME      0\n",
            "IDENTITY    565\n",
            "dtype: int64\n",
            "Valid Missing values before removal:\n",
            " FILENAME     0\n",
            "IDENTITY    78\n",
            "dtype: int64\n",
            "\n",
            "Train Missing values after removal:\n",
            " FILENAME    0\n",
            "IDENTITY    0\n",
            "dtype: int64\n",
            "\n",
            "Valid Missing values after removal:\n",
            " FILENAME    0\n",
            "IDENTITY    0\n",
            "dtype: int64\n"
          ]
        }
      ]
    },
    {
      "cell_type": "code",
      "source": [
        "#hapus/ignore data tak terbaca dimana kolom \"Identity\" berlabel \"unreadable\"\n",
        "train = train[train['IDENTITY'] != 'UNREADABLE']\n",
        "valid = valid[valid['IDENTITY'] != 'UNREADABLE']"
      ],
      "metadata": {
        "id": "5NCtKV6H4XgG"
      },
      "execution_count": 5,
      "outputs": []
    },
    {
      "cell_type": "code",
      "source": [
        "#reset data frame index setelah cleaning process\n",
        "train.reset_index(inplace = True, drop=True) \n",
        "valid.reset_index(inplace = True, drop=True)"
      ],
      "metadata": {
        "id": "UT2Vjlle41X8"
      },
      "execution_count": 6,
      "outputs": []
    },
    {
      "cell_type": "code",
      "source": [
        "#pre process data (resizing & rotating)\n",
        "# def preprocess(image, width=256, height=64):\n",
        "#   # Resize the image to the desired width and height.\n",
        "#   resized_image = cv2.resize(image, (width, height))\n",
        "\n",
        "#   # If the image is smaller than the desired size, pad it with white pixels.\n",
        "#   if resized_image.shape[0] < width or resized_image.shape[1] < height:\n",
        "#     pad_top = max(0, width - resized_image.shape[0])\n",
        "#     pad_bottom = max(0, height - resized_image.shape[1])\n",
        "#     pad_left = max(0, width - resized_image.shape[0])\n",
        "#     pad_right = max(0, height - resized_image.shape[1])\n",
        "#     pad_color = (255, 255, 255)\n",
        "#     padded_image = cv2.copyMakeBorder(resized_image, pad_top, pad_bottom, pad_left, pad_right, cv2.BORDER_CONSTANT, value=pad_color)\n",
        "#   else:\n",
        "#     padded_image = resized_image\n",
        "\n",
        "#   # Rotate the image clockwise.\n",
        "#   rotated_image = cv2.rotate(padded_image, cv2.ROTATE_90_CLOCKWISE)\n",
        "\n",
        "#   return rotated_image\n",
        "\n",
        "def preprocess(img):\n",
        "    (h, w) = img.shape\n",
        "    \n",
        "    final_img = np.ones([64, 256])*255 # blank white image\n",
        "    \n",
        "    # crop\n",
        "    if w > 256:\n",
        "        img = img[:, :256]\n",
        "        \n",
        "    if h > 64:\n",
        "        img = img[:64, :]\n",
        "    \n",
        "    \n",
        "    final_img[:h, :w] = img\n",
        "    return cv2.rotate(final_img, cv2.ROTATE_90_CLOCKWISE)"
      ],
      "metadata": {
        "id": "MFzQN5zD6kJ6"
      },
      "execution_count": 7,
      "outputs": []
    },
    {
      "cell_type": "code",
      "source": [
        "#menentukan training dan validation data yang digunakan untuk training\n",
        "#total data training set (331,059) dan validation set (41,382).\n",
        "#menggunakan 70% data untuk training dan 15% untuk validation\n",
        "train_images = 10000\n",
        "valid_images= 1000\n",
        "\n"
      ],
      "metadata": {
        "id": "aiChBEdZ_eRs"
      },
      "execution_count": 8,
      "outputs": []
    },
    {
      "cell_type": "code",
      "source": [
        "#loop untuk pre-process train & valid set\n",
        "#buat array train\n",
        "train_x = []\n",
        "\n",
        "for i in range(train_images):\n",
        "    #read file\n",
        "    img_dir = '/content/Dataset/train_v2/train/'+train.loc[i, 'FILENAME']\n",
        "    #convert to greyscale\n",
        "    image = cv2.imread(img_dir, cv2.IMREAD_GRAYSCALE)\n",
        "    #pre-process dengan fungsi diatas\n",
        "    image = preprocess(image)\n",
        "    #Normalizing the pixel values to the range of 0-1 \n",
        "    image = image/255.\n",
        "    #masukan image ke dalam array\n",
        "    train_x.append(image)\n",
        "\n"
      ],
      "metadata": {
        "id": "rcHtPH9xEObf"
      },
      "execution_count": 9,
      "outputs": []
    },
    {
      "cell_type": "code",
      "source": [
        "#ulangi process diatas untuk validation set\n",
        "valid_x = []\n",
        "\n",
        "for i in range(valid_images):\n",
        "    img_dir = '/content/Dataset/validation_v2/validation/'+valid.loc[i, 'FILENAME']\n",
        "    image = cv2.imread(img_dir, cv2.IMREAD_GRAYSCALE)\n",
        "    image = preprocess(image)\n",
        "    image = image/255.\n",
        "    valid_x.append(image)"
      ],
      "metadata": {
        "id": "6dHzdO5NbB7j"
      },
      "execution_count": 10,
      "outputs": []
    },
    {
      "cell_type": "code",
      "source": [
        "train_x = np.array(train_x).reshape(-1, 256, 64, 1)\n",
        "valid_x = np.array(valid_x).reshape(-1, 256, 64, 1)"
      ],
      "metadata": {
        "id": "tFCJ5BiAHHUj"
      },
      "execution_count": 11,
      "outputs": []
    },
    {
      "cell_type": "code",
      "source": [
        "alphabets = u\"ABCDEFGHIJKLMNOPQRSTUVWXYZ-' \"\n",
        "max_str_len = 24 # max length of input labels\n",
        "num_of_characters = len(alphabets) + 1 # +1 for ctc pseudo blank\n",
        "num_of_timestamps = 64 # max length of predicted labels\n",
        "batch_size = 128\n",
        "\n",
        "def label_to_num(label):\n",
        "    label_num = []\n",
        "    for ch in label:\n",
        "        \n",
        "            label_num.append(alphabets.find(ch) if alphabets.find(ch)!=-1 else alphabets.find('-'))\n",
        "        \n",
        "    return np.array(label_num)\n",
        "\n",
        "def num_to_label(num):\n",
        "    ret = \"\"\n",
        "    for ch in num:\n",
        "        if ch == -1:  # CTC Blank\n",
        "            break\n",
        "        else:\n",
        "            ret+=alphabets[ch]\n",
        "    return ret"
      ],
      "metadata": {
        "id": "5r56OFTcHIGQ"
      },
      "execution_count": 12,
      "outputs": []
    },
    {
      "cell_type": "code",
      "source": [
        "train.shape"
      ],
      "metadata": {
        "colab": {
          "base_uri": "https://localhost:8080/"
        },
        "id": "9ac1U-zrW-ZF",
        "outputId": "e718e8df-57ca-4781-aeaf-bb7ff330d730"
      },
      "execution_count": 13,
      "outputs": [
        {
          "output_type": "execute_result",
          "data": {
            "text/plain": [
              "(330294, 2)"
            ]
          },
          "metadata": {},
          "execution_count": 13
        }
      ]
    },
    {
      "cell_type": "code",
      "source": [
        "# path = '/kaggle/input/handwriting-recognition/train_v2/train/'\n",
        "\n",
        "# counts = []\n",
        "# for row, val in train.iloc[37000:40000].iterrows():\n",
        "# #     pass\n",
        "#     img_dir = os.path.join(path, val['FILENAME'])\n",
        "#     image = cv2.imread(img_dir, cv2.IMREAD_GRAYSCALE)\n",
        "#     counts.append(len(val['IDENTITY']))\n",
        "# print(counts)"
      ],
      "metadata": {
        "id": "CXth8DwtW-7u"
      },
      "execution_count": null,
      "outputs": []
    },
    {
      "cell_type": "code",
      "source": [
        "# directory = '/content/Dataset/train_v2/train/'\n",
        "\n",
        "# def image_generator(path):\n",
        "#         for row, val in  train.iterrows(): #need improvement\n",
        "# #             try:\n",
        "#                 img_dir = os.path.join(path, val['FILENAME'])\n",
        "#                 image = cv2.imread(img_dir, cv2.IMREAD_GRAYSCALE)\n",
        "#                 image = preprocess(image)[..., np.newaxis]\n",
        "#         #         print(image.shape)\n",
        "#                 image = image/255.\n",
        "#                 if image.shape !=(256,64,1):\n",
        "#                     break\n",
        "#                 # train_label_len[i] = len(train.loc[i, 'IDENTITY'])\n",
        "#                 if (len(val['IDENTITY'])>max_str_len):\n",
        "#                     continue\n",
        "#                 labels = label_to_num(val['IDENTITY'])    \n",
        "#                 yield (image, labels)\n",
        "# #             except Exception as e:\n",
        "# #                 continue"
      ],
      "metadata": {
        "id": "qbyT_e1FTX02"
      },
      "execution_count": 60,
      "outputs": []
    },
    {
      "cell_type": "code",
      "source": [
        "# AUTOTUNE = tf.data.experimental.AUTOTUNE"
      ],
      "metadata": {
        "id": "XjZicKnrTdb9"
      },
      "execution_count": 61,
      "outputs": []
    },
    {
      "cell_type": "code",
      "source": [
        "# dataset = tf.data.Dataset.from_generator(lambda: image_generator(directory), (tf.float32, tf.float32))# , ([256, 64,1], [None]))\n",
        "# def foo(*val):\n",
        "#     xl = val[0]\n",
        "#     lab = val[1]\n",
        "#     lab_len = len(lab)\n",
        "#     one_pad = -tf.ones((max_str_len - lab_len))#*(-1)\n",
        "#     y = tf.concat([lab, one_pad], -1)\n",
        "    \n",
        "#     return xl, y, [num_of_timestamps-2], [lab_len], [0]\n",
        "                  \n",
        "# dataset = dataset.map(foo).batch(batch_size)\n",
        "# dataset_final = dataset.map(lambda *x: (x[0:-1],x[-1])).prefetch(AUTOTUNE)"
      ],
      "metadata": {
        "id": "x5iJs74SThB7"
      },
      "execution_count": 62,
      "outputs": []
    },
    {
      "cell_type": "code",
      "source": [
        "train_y = np.ones([train_images, max_str_len]) * -1\n",
        "train_label_len = np.zeros([train_images, 1])\n",
        "train_input_len = np.ones([train_images, 1]) * (num_of_timestamps-2)\n",
        "train_output = np.zeros([train_images])\n",
        "\n",
        "for i in range(train_images):\n",
        "    train_label_len[i] = len(train.loc[i, 'IDENTITY'])\n",
        "    train_y[i, 0:len(train.loc[i, 'IDENTITY'])]= label_to_num(train.loc[i, 'IDENTITY'])"
      ],
      "metadata": {
        "id": "CjbQnLtBHMsH"
      },
      "execution_count": 14,
      "outputs": []
    },
    {
      "cell_type": "code",
      "source": [
        "valid_y = np.ones([valid_images, max_str_len]) * -1\n",
        "valid_label_len = np.zeros([valid_images, 1])\n",
        "valid_input_len = np.ones([valid_images, 1]) * (num_of_timestamps-2)\n",
        "valid_output = np.zeros([valid_images])\n",
        "\n",
        "for i in range(valid_images):\n",
        "    valid_label_len[i] = len(valid.loc[i, 'IDENTITY'])\n",
        "    valid_y[i, 0:len(valid.loc[i, 'IDENTITY'])]= label_to_num(valid.loc[i, 'IDENTITY'])"
      ],
      "metadata": {
        "id": "0H1d6tfyHRv7"
      },
      "execution_count": 15,
      "outputs": []
    },
    {
      "cell_type": "code",
      "source": [
        "print('True label : ',train.loc[100, 'IDENTITY'] , '\\ntrain_y : ',train_y[100],'\\ntrain_label_len : ',train_label_len[100], \n",
        "      '\\ntrain_input_len : ', train_input_len[100])"
      ],
      "metadata": {
        "colab": {
          "base_uri": "https://localhost:8080/"
        },
        "id": "geceDF_aHUpl",
        "outputId": "7573a621-ca8b-4c55-f3f7-7e795c0b2cdc"
      },
      "execution_count": 16,
      "outputs": [
        {
          "output_type": "stream",
          "name": "stdout",
          "text": [
            "True label :  NOUR \n",
            "train_y :  [13. 14. 20. 17. -1. -1. -1. -1. -1. -1. -1. -1. -1. -1. -1. -1. -1. -1.\n",
            " -1. -1. -1. -1. -1. -1.] \n",
            "train_label_len :  [4.] \n",
            "train_input_len :  [62.]\n"
          ]
        }
      ]
    },
    {
      "cell_type": "code",
      "source": [
        "input_data = Input(shape=(256, 64, 1), name='input')\n",
        "\n",
        "inner = Conv2D(32, (3, 3), padding='same', name='conv1', kernel_initializer='he_normal')(input_data)  \n",
        "inner = BatchNormalization()(inner)\n",
        "inner = Activation('relu')(inner)\n",
        "inner = MaxPooling2D(pool_size=(2, 2), name='max1')(inner)\n",
        "\n",
        "inner = Conv2D(64, (3, 3), padding='same', name='conv2', kernel_initializer='he_normal')(inner)\n",
        "inner = BatchNormalization()(inner)\n",
        "inner = Activation('relu')(inner)\n",
        "inner = MaxPooling2D(pool_size=(2, 2), name='max2')(inner)\n",
        "inner = Dropout(0.3)(inner)\n",
        "\n",
        "inner = Conv2D(128, (3, 3), padding='same', name='conv3', kernel_initializer='he_normal')(inner)\n",
        "inner = BatchNormalization()(inner)\n",
        "inner = Activation('relu')(inner)\n",
        "inner = MaxPooling2D(pool_size=(1, 2), name='max3')(inner)\n",
        "inner = Dropout(0.3)(inner)\n",
        "\n",
        "# CNN to RNN\n",
        "inner = Reshape(target_shape=((64, 1024)), name='reshape')(inner)\n",
        "inner = Dense(64, activation='relu', kernel_initializer='he_normal', name='dense1')(inner)\n",
        "\n",
        "## RNN\n",
        "inner = Bidirectional(LSTM(256, return_sequences=True), name = 'lstm1')(inner)\n",
        "inner = Bidirectional(LSTM(256, return_sequences=True), name = 'lstm2')(inner)\n",
        "\n",
        "## OUTPUT\n",
        "inner = Dense(num_of_characters, kernel_initializer='he_normal',name='dense2')(inner)\n",
        "y_pred = Activation('softmax', name='softmax')(inner)\n",
        "\n",
        "model = Model(inputs=input_data, outputs=y_pred)\n",
        "model.summary()"
      ],
      "metadata": {
        "colab": {
          "base_uri": "https://localhost:8080/"
        },
        "id": "6Ne3ilEMHYuZ",
        "outputId": "597156f2-b2d8-4651-e2b8-601631325b9a"
      },
      "execution_count": 17,
      "outputs": [
        {
          "output_type": "stream",
          "name": "stdout",
          "text": [
            "Model: \"model\"\n",
            "_________________________________________________________________\n",
            " Layer (type)                Output Shape              Param #   \n",
            "=================================================================\n",
            " input (InputLayer)          [(None, 256, 64, 1)]      0         \n",
            "                                                                 \n",
            " conv1 (Conv2D)              (None, 256, 64, 32)       320       \n",
            "                                                                 \n",
            " batch_normalization (BatchN  (None, 256, 64, 32)      128       \n",
            " ormalization)                                                   \n",
            "                                                                 \n",
            " activation (Activation)     (None, 256, 64, 32)       0         \n",
            "                                                                 \n",
            " max1 (MaxPooling2D)         (None, 128, 32, 32)       0         \n",
            "                                                                 \n",
            " conv2 (Conv2D)              (None, 128, 32, 64)       18496     \n",
            "                                                                 \n",
            " batch_normalization_1 (Batc  (None, 128, 32, 64)      256       \n",
            " hNormalization)                                                 \n",
            "                                                                 \n",
            " activation_1 (Activation)   (None, 128, 32, 64)       0         \n",
            "                                                                 \n",
            " max2 (MaxPooling2D)         (None, 64, 16, 64)        0         \n",
            "                                                                 \n",
            " dropout (Dropout)           (None, 64, 16, 64)        0         \n",
            "                                                                 \n",
            " conv3 (Conv2D)              (None, 64, 16, 128)       73856     \n",
            "                                                                 \n",
            " batch_normalization_2 (Batc  (None, 64, 16, 128)      512       \n",
            " hNormalization)                                                 \n",
            "                                                                 \n",
            " activation_2 (Activation)   (None, 64, 16, 128)       0         \n",
            "                                                                 \n",
            " max3 (MaxPooling2D)         (None, 64, 8, 128)        0         \n",
            "                                                                 \n",
            " dropout_1 (Dropout)         (None, 64, 8, 128)        0         \n",
            "                                                                 \n",
            " reshape (Reshape)           (None, 64, 1024)          0         \n",
            "                                                                 \n",
            " dense1 (Dense)              (None, 64, 64)            65600     \n",
            "                                                                 \n",
            " lstm1 (Bidirectional)       (None, 64, 512)           657408    \n",
            "                                                                 \n",
            " lstm2 (Bidirectional)       (None, 64, 512)           1574912   \n",
            "                                                                 \n",
            " dense2 (Dense)              (None, 64, 30)            15390     \n",
            "                                                                 \n",
            " softmax (Activation)        (None, 64, 30)            0         \n",
            "                                                                 \n",
            "=================================================================\n",
            "Total params: 2,406,878\n",
            "Trainable params: 2,406,430\n",
            "Non-trainable params: 448\n",
            "_________________________________________________________________\n"
          ]
        }
      ]
    },
    {
      "cell_type": "code",
      "source": [
        "# the ctc loss function\n",
        "def ctc_lambda_func(args):\n",
        "    y_pred, labels, input_length, label_length = args\n",
        "    # the 2 is critical here since the first couple outputs of the RNN\n",
        "    # tend to be garbage\n",
        "    y_pred = y_pred[:, 2:, :]\n",
        "    return K.ctc_batch_cost(labels, y_pred, input_length, label_length)"
      ],
      "metadata": {
        "id": "i-Celz7NHbKe"
      },
      "execution_count": 18,
      "outputs": []
    },
    {
      "cell_type": "code",
      "source": [
        "labels = Input(name='gtruth_labels', shape=[max_str_len], dtype='float32')\n",
        "input_length = Input(name='input_length', shape=[1], dtype='int64')\n",
        "label_length = Input(name='label_length', shape=[1], dtype='int64')\n",
        "\n",
        "ctc_loss = Lambda(ctc_lambda_func, output_shape=(1,), name='ctc')([y_pred, labels, input_length, label_length])\n",
        "model_final = Model(inputs=[input_data, labels, input_length, label_length], outputs=ctc_loss)"
      ],
      "metadata": {
        "id": "eEK6J5gmHjqR"
      },
      "execution_count": 19,
      "outputs": []
    },
    {
      "cell_type": "code",
      "source": [
        "# the loss calculation occurs elsewhere, so we use a dummy lambda function for the loss\n",
        "model_final.compile(loss={'ctc': lambda y_true, y_pred: y_pred}, optimizer=Adam(lr = 0.0001))\n",
        "\n",
        "history = model_final.fit(x=[train_x, train_y, train_input_len, train_label_len], y=train_output, \n",
        "                validation_data=([valid_x, valid_y, valid_input_len, valid_label_len], valid_output),\n",
        "                epochs=60, batch_size=128)"
      ],
      "metadata": {
        "colab": {
          "base_uri": "https://localhost:8080/"
        },
        "id": "sebGGDv1Hmo3",
        "outputId": "5719b279-6604-452f-dfd2-c47f048a1689"
      },
      "execution_count": 20,
      "outputs": [
        {
          "output_type": "stream",
          "name": "stderr",
          "text": [
            "/usr/local/lib/python3.10/dist-packages/keras/optimizers/legacy/adam.py:117: UserWarning: The `lr` argument is deprecated, use `learning_rate` instead.\n",
            "  super().__init__(name, **kwargs)\n",
            "/usr/local/lib/python3.10/dist-packages/tensorflow/python/data/ops/structured_function.py:254: UserWarning: Even though the `tf.config.experimental_run_functions_eagerly` option is set, this option does not apply to tf.data functions. To force eager execution of tf.data functions, please use `tf.data.experimental.enable_debug_mode()`.\n",
            "  warnings.warn(\n"
          ]
        },
        {
          "output_type": "stream",
          "name": "stdout",
          "text": [
            "Epoch 1/60\n",
            "79/79 [==============================] - 49s 468ms/step - loss: 31.6074 - val_loss: 36.0837\n",
            "Epoch 2/60\n",
            "79/79 [==============================] - 35s 441ms/step - loss: 20.7623 - val_loss: 23.3319\n",
            "Epoch 3/60\n",
            "79/79 [==============================] - 35s 444ms/step - loss: 20.3966 - val_loss: 20.9770\n",
            "Epoch 4/60\n",
            "79/79 [==============================] - 34s 435ms/step - loss: 20.2130 - val_loss: 20.6570\n",
            "Epoch 5/60\n",
            "79/79 [==============================] - 35s 445ms/step - loss: 20.1071 - val_loss: 20.4878\n",
            "Epoch 6/60\n",
            "79/79 [==============================] - 37s 468ms/step - loss: 20.0010 - val_loss: 20.3211\n",
            "Epoch 7/60\n",
            "79/79 [==============================] - 34s 435ms/step - loss: 19.8849 - val_loss: 20.1875\n",
            "Epoch 8/60\n",
            "79/79 [==============================] - 36s 453ms/step - loss: 19.7833 - val_loss: 20.0849\n",
            "Epoch 9/60\n",
            "79/79 [==============================] - 38s 478ms/step - loss: 19.6790 - val_loss: 19.9405\n",
            "Epoch 10/60\n",
            "79/79 [==============================] - 34s 430ms/step - loss: 19.5306 - val_loss: 19.8496\n",
            "Epoch 11/60\n",
            "79/79 [==============================] - 35s 448ms/step - loss: 19.3272 - val_loss: 19.5887\n",
            "Epoch 12/60\n",
            "79/79 [==============================] - 35s 437ms/step - loss: 19.0748 - val_loss: 19.3488\n",
            "Epoch 13/60\n",
            "79/79 [==============================] - 35s 442ms/step - loss: 18.7312 - val_loss: 19.0854\n",
            "Epoch 14/60\n",
            "79/79 [==============================] - 38s 478ms/step - loss: 18.2817 - val_loss: 18.5655\n",
            "Epoch 15/60\n",
            "79/79 [==============================] - 35s 437ms/step - loss: 17.8396 - val_loss: 18.0575\n",
            "Epoch 16/60\n",
            "79/79 [==============================] - 35s 438ms/step - loss: 17.3882 - val_loss: 17.6985\n",
            "Epoch 17/60\n",
            "79/79 [==============================] - 37s 473ms/step - loss: 16.8639 - val_loss: 17.0498\n",
            "Epoch 18/60\n",
            "79/79 [==============================] - 34s 431ms/step - loss: 16.3260 - val_loss: 16.5588\n",
            "Epoch 19/60\n",
            "79/79 [==============================] - 35s 448ms/step - loss: 15.7200 - val_loss: 15.8054\n",
            "Epoch 20/60\n",
            "79/79 [==============================] - 34s 432ms/step - loss: 15.0704 - val_loss: 15.1456\n",
            "Epoch 21/60\n",
            "79/79 [==============================] - 35s 440ms/step - loss: 14.4151 - val_loss: 15.4234\n",
            "Epoch 22/60\n",
            "79/79 [==============================] - 37s 471ms/step - loss: 13.7012 - val_loss: 15.7486\n",
            "Epoch 23/60\n",
            "79/79 [==============================] - 34s 433ms/step - loss: 12.9763 - val_loss: 16.0498\n",
            "Epoch 24/60\n",
            "79/79 [==============================] - 35s 441ms/step - loss: 12.2291 - val_loss: 16.4435\n",
            "Epoch 25/60\n",
            "79/79 [==============================] - 34s 429ms/step - loss: 11.5228 - val_loss: 16.7374\n",
            "Epoch 26/60\n",
            "79/79 [==============================] - 35s 442ms/step - loss: 10.7215 - val_loss: 15.2756\n",
            "Epoch 27/60\n",
            "79/79 [==============================] - 35s 438ms/step - loss: 9.9766 - val_loss: 14.8083\n",
            "Epoch 28/60\n",
            "79/79 [==============================] - 35s 440ms/step - loss: 9.2578 - val_loss: 11.4926\n",
            "Epoch 29/60\n",
            "79/79 [==============================] - 35s 444ms/step - loss: 8.6429 - val_loss: 10.6075\n",
            "Epoch 30/60\n",
            "79/79 [==============================] - 35s 438ms/step - loss: 8.0617 - val_loss: 9.3974\n",
            "Epoch 31/60\n",
            "79/79 [==============================] - 36s 460ms/step - loss: 7.5510 - val_loss: 8.7349\n",
            "Epoch 32/60\n",
            "79/79 [==============================] - 35s 437ms/step - loss: 7.1469 - val_loss: 7.9015\n",
            "Epoch 33/60\n",
            "79/79 [==============================] - 35s 442ms/step - loss: 6.7700 - val_loss: 7.3531\n",
            "Epoch 34/60\n",
            "79/79 [==============================] - 37s 474ms/step - loss: 6.4360 - val_loss: 6.8316\n",
            "Epoch 35/60\n",
            "79/79 [==============================] - 34s 431ms/step - loss: 6.1326 - val_loss: 6.9783\n",
            "Epoch 36/60\n",
            "79/79 [==============================] - 35s 443ms/step - loss: 5.8700 - val_loss: 6.1685\n",
            "Epoch 37/60\n",
            "79/79 [==============================] - 35s 445ms/step - loss: 5.6288 - val_loss: 6.1268\n",
            "Epoch 38/60\n",
            "79/79 [==============================] - 36s 451ms/step - loss: 5.4156 - val_loss: 5.7234\n",
            "Epoch 39/60\n",
            "79/79 [==============================] - 38s 483ms/step - loss: 5.1883 - val_loss: 5.4336\n",
            "Epoch 40/60\n",
            "79/79 [==============================] - 35s 440ms/step - loss: 5.0035 - val_loss: 5.1653\n",
            "Epoch 41/60\n",
            "79/79 [==============================] - 35s 437ms/step - loss: 4.8679 - val_loss: 5.1419\n",
            "Epoch 42/60\n",
            "79/79 [==============================] - 35s 446ms/step - loss: 4.7401 - val_loss: 5.1813\n",
            "Epoch 43/60\n",
            "79/79 [==============================] - 35s 437ms/step - loss: 4.5213 - val_loss: 5.1690\n",
            "Epoch 44/60\n",
            "79/79 [==============================] - 35s 445ms/step - loss: 4.4047 - val_loss: 5.2323\n",
            "Epoch 45/60\n",
            "79/79 [==============================] - 35s 442ms/step - loss: 4.2646 - val_loss: 4.5389\n",
            "Epoch 46/60\n",
            "79/79 [==============================] - 36s 453ms/step - loss: 4.1522 - val_loss: 4.5404\n",
            "Epoch 47/60\n",
            "79/79 [==============================] - 35s 440ms/step - loss: 4.0192 - val_loss: 4.4859\n",
            "Epoch 48/60\n",
            "79/79 [==============================] - 35s 441ms/step - loss: 3.9852 - val_loss: 4.4113\n",
            "Epoch 49/60\n",
            "79/79 [==============================] - 35s 441ms/step - loss: 3.8521 - val_loss: 4.3830\n",
            "Epoch 50/60\n",
            "79/79 [==============================] - 34s 427ms/step - loss: 3.7510 - val_loss: 4.2102\n",
            "Epoch 51/60\n",
            "79/79 [==============================] - 34s 436ms/step - loss: 3.6425 - val_loss: 4.0935\n",
            "Epoch 52/60\n",
            "79/79 [==============================] - 35s 437ms/step - loss: 3.5684 - val_loss: 4.1065\n",
            "Epoch 53/60\n",
            "79/79 [==============================] - 35s 444ms/step - loss: 3.5238 - val_loss: 3.8843\n",
            "Epoch 54/60\n",
            "79/79 [==============================] - 34s 432ms/step - loss: 3.4003 - val_loss: 4.8366\n",
            "Epoch 55/60\n",
            "79/79 [==============================] - 35s 436ms/step - loss: 3.3496 - val_loss: 4.0741\n",
            "Epoch 56/60\n",
            "79/79 [==============================] - 37s 464ms/step - loss: 3.3540 - val_loss: 3.9222\n",
            "Epoch 57/60\n",
            "79/79 [==============================] - 34s 435ms/step - loss: 3.1770 - val_loss: 3.8625\n",
            "Epoch 58/60\n",
            "79/79 [==============================] - 34s 435ms/step - loss: 3.1261 - val_loss: 3.8344\n",
            "Epoch 59/60\n",
            "79/79 [==============================] - 34s 434ms/step - loss: 3.0407 - val_loss: 3.7189\n",
            "Epoch 60/60\n",
            "79/79 [==============================] - 34s 433ms/step - loss: 3.0149 - val_loss: 3.6354\n"
          ]
        }
      ]
    },
    {
      "cell_type": "code",
      "source": [
        "preds = model.predict(valid_x)\n",
        "decoded = K.get_value(K.ctc_decode(preds, input_length=np.ones(preds.shape[0])*preds.shape[1], \n",
        "                                   greedy=True)[0][0])\n",
        "\n",
        "prediction = []\n",
        "for i in range(valid_images):\n",
        "    prediction.append(num_to_label(decoded[i]))"
      ],
      "metadata": {
        "colab": {
          "base_uri": "https://localhost:8080/"
        },
        "id": "-TaidurAHo-N",
        "outputId": "43e3eeec-b565-499e-d2ce-6b79dcbf3fe1"
      },
      "execution_count": 21,
      "outputs": [
        {
          "output_type": "stream",
          "name": "stdout",
          "text": [
            "32/32 [==============================] - 2s 64ms/step\n"
          ]
        }
      ]
    },
    {
      "cell_type": "code",
      "source": [
        "y_true = valid.loc[0:valid_images, 'IDENTITY']\n",
        "correct_char = 0\n",
        "total_char = 0\n",
        "correct = 0\n",
        "\n",
        "for i in range(valid_images):\n",
        "    pr = prediction[i]\n",
        "    tr = y_true[i]\n",
        "    total_char += len(tr)\n",
        "    \n",
        "    for j in range(min(len(tr), len(pr))):\n",
        "        if tr[j] == pr[j]:\n",
        "            correct_char += 1\n",
        "            \n",
        "    if pr == tr :\n",
        "        correct += 1 \n",
        "    \n",
        "print('Correct characters predicted : %.2f%%' %(correct_char*100/total_char))\n",
        "print('Correct words predicted      : %.2f%%' %(correct*100/valid_images))"
      ],
      "metadata": {
        "colab": {
          "base_uri": "https://localhost:8080/"
        },
        "id": "iFG7FQ_RHuDy",
        "outputId": "20962584-df7d-444d-d55e-ce420700e62c"
      },
      "execution_count": 22,
      "outputs": [
        {
          "output_type": "stream",
          "name": "stdout",
          "text": [
            "Correct characters predicted : 73.47%\n",
            "Correct words predicted      : 49.20%\n"
          ]
        }
      ]
    },
    {
      "cell_type": "code",
      "source": [
        "# # Plot the chart for accuracy and loss on both training and validation\n",
        "\n",
        "# acc = history.history['accuracy']\n",
        "# val_acc = history.history['val_accuracy']\n",
        "# loss = history.history['loss']\n",
        "# val_loss = history.history['val_loss']\n",
        "\n",
        "# epochs = range(len(acc))\n",
        "\n",
        "# plt.plot(epochs, acc, 'r', label='Training accuracy')\n",
        "# plt.plot(epochs, val_acc, 'b', label='Validation accuracy')\n",
        "# plt.title('Training and validation accuracy')\n",
        "# plt.legend()\n",
        "# plt.figure()\n",
        "\n",
        "# plt.plot(epochs, loss, 'r', label='Training Loss')\n",
        "# plt.plot(epochs, val_loss, 'b', label='Validation Loss')\n",
        "# plt.title('Training and validation loss')\n",
        "# plt.legend()\n",
        "\n",
        "# plt.show()"
      ],
      "metadata": {
        "id": "atAZlaHSojh8"
      },
      "execution_count": null,
      "outputs": []
    }
  ]
}