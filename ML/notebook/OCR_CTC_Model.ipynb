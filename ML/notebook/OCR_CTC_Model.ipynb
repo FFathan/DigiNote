{
  "cells": [
    {
      "cell_type": "code",
      "execution_count": null,
      "metadata": {
        "id": "_ET-gbBPrXDa"
      },
      "outputs": [],
      "source": [
        "\n",
        "import cv2\n",
        "\n",
        "import numpy as np\n",
        "import pandas as pd\n",
        "import matplotlib.pyplot as plt\n",
        "import zipfile\n",
        "\n",
        "import tensorflow as tf\n",
        "from keras import backend as K\n",
        "from keras.models import Model\n",
        "from keras.layers import Input, Conv2D, MaxPooling2D, Reshape, Bidirectional, LSTM, Dense, Lambda, Activation, BatchNormalization, Dropout\n",
        "from keras.optimizers import Adam\n"
      ]
    },
    {
      "cell_type": "code",
      "execution_count": null,
      "metadata": {
        "id": "kbPtKLRNsEOI"
      },
      "outputs": [],
      "source": [
        "#install kaggle to download dataset\n",
        "! pip install -q kaggle\n",
        "\n",
        "from google.colab import files\n",
        "\n",
        "#upload kaggle API\n",
        "files.upload()"
      ]
    },
    {
      "cell_type": "code",
      "execution_count": null,
      "metadata": {
        "id": "YcTAn7oMsp4r"
      },
      "outputs": [],
      "source": [
        "#make directory kaggle json\n",
        "! mkdir ~/.kaggle\n",
        "\n",
        "! cp kaggle.json ~/.kaggle/\n",
        "! chmod 600 ~/.kaggle/kaggle.json"
      ]
    },
    {
      "cell_type": "code",
      "execution_count": null,
      "metadata": {
        "colab": {
          "base_uri": "https://localhost:8080/"
        },
        "id": "T02-TCO-s5JK",
        "outputId": "126e8e8f-100b-4ff1-bf43-66ea3dd43ec9"
      },
      "outputs": [
        {
          "name": "stdout",
          "output_type": "stream",
          "text": [
            "handwriting-recognition.zip: Skipping, found more recently modified local copy (use --force to force download)\n"
          ]
        }
      ],
      "source": [
        "# Download the dataset\n",
        "# Downloaded dataset will be in temp session storage\n",
        "# You can check it by clicking the folder icon on the left\n",
        "!kaggle datasets download -d landlord/handwriting-recognition"
      ]
    },
    {
      "cell_type": "code",
      "execution_count": null,
      "metadata": {
        "id": "fk27deZltM3l"
      },
      "outputs": [],
      "source": [
        "#extract zip and move it to designed directory\n",
        "!mkdir Dataset\n",
        "with zipfile.ZipFile(\"/content/handwriting-recognition.zip\", \"r\") as zip_ref:\n",
        "    zip_ref.extractall(\"/content/Dataset\")\n",
        "\n",
        "# Delete the zip file\n",
        "# os.remove(\"/content/handwriting-recognition.zip\")"
      ]
    },
    {
      "cell_type": "code",
      "execution_count": null,
      "metadata": {
        "id": "tL1KY7gvrkJm"
      },
      "outputs": [],
      "source": [
        "# Read the csv files\n",
        "train = pd.read_csv('/content/Dataset/written_name_train_v2.csv')\n",
        "valid = pd.read_csv('/content/Dataset/written_name_validation_v2.csv')"
      ]
    },
    {
      "cell_type": "code",
      "execution_count": null,
      "metadata": {
        "colab": {
          "base_uri": "https://localhost:8080/",
          "height": 174
        },
        "id": "dz35uk14vw_d",
        "outputId": "614ba492-c7c0-4cfd-d4ef-36da0f36fa3e"
      },
      "outputs": [],
      "source": [
        "# preview sample data from train dataset\n",
        "# preview 8 images on random\n",
        "\n",
        "import random\n",
        "\n",
        "plt.figure(figsize=(15, 10))\n",
        "\n",
        "# Get a list of 8 random indices from the dataset\n",
        "random_indices = random.sample(range(len(train)), 8)\n",
        "\n",
        "for i, idx in enumerate(random_indices):\n",
        "    ax = plt.subplot(2, 4, i+1)\n",
        "    img_dir = '/content/Dataset/train_v2/train/' + train.loc[idx, 'FILENAME']\n",
        "    image = cv2.imread(img_dir, cv2.IMREAD_GRAYSCALE)\n",
        "    plt.imshow(image, cmap='gray')\n",
        "    plt.title(train.loc[idx, 'IDENTITY'], fontsize=12)\n",
        "    plt.axis('off')\n",
        "\n",
        "plt.subplots_adjust(wspace=0.2, hspace=-0.8)\n",
        "plt.show()"
      ]
    },
    {
      "cell_type": "code",
      "execution_count": null,
      "metadata": {
        "colab": {
          "base_uri": "https://localhost:8080/"
        },
        "id": "nQJsIh4Y9Qt6",
        "outputId": "1ac54797-9090-4d3e-a4a8-a45f3ade3d43"
      },
      "outputs": [
        {
          "name": "stdout",
          "output_type": "stream",
          "text": [
            "Training images: 330961\n",
            "Validation images: 41370\n"
          ]
        }
      ],
      "source": [
        "# Check total images in train and validation dataset\n",
        "\n",
        "print(\"Training images:\", len(train))\n",
        "print(\"Validation images:\", len(valid))"
      ]
    },
    {
      "cell_type": "code",
      "execution_count": null,
      "metadata": {
        "colab": {
          "base_uri": "https://localhost:8080/"
        },
        "id": "9wdQdUWxwSpL",
        "outputId": "a02bda4e-85aa-445c-eeb9-ac6a0fadc54f"
      },
      "outputs": [
        {
          "name": "stdout",
          "output_type": "stream",
          "text": [
            "Train Missing values before removal:\n",
            " FILENAME      0\n",
            "IDENTITY    565\n",
            "dtype: int64\n",
            "Valid Missing values before removal:\n",
            " FILENAME     0\n",
            "IDENTITY    78\n",
            "dtype: int64\n",
            "\n",
            "Train Missing values after removal:\n",
            " FILENAME    0\n",
            "IDENTITY    0\n",
            "dtype: int64\n",
            "\n",
            "Valid Missing values after removal:\n",
            " FILENAME    0\n",
            "IDENTITY    0\n",
            "dtype: int64\n"
          ]
        }
      ],
      "source": [
        "# Cleaning process\n",
        "\n",
        "# Dataset has some missing values\n",
        "# We will remove those rows with missing values\n",
        "\n",
        "\n",
        "# Check for missing values\n",
        "train_missing_values = train.isnull().sum()\n",
        "valid_missing_values = valid.isnull().sum()\n",
        "\n",
        "# Remove rows with missing values\n",
        "train.dropna(inplace=True)\n",
        "valid.dropna(inplace=True)\n",
        "\n",
        "# Preview sample data after removal of missing values\n",
        "train_missing_values_after_removal = train.isnull().sum()\n",
        "valid_missing_values_after_removal = valid.isnull().sum()\n",
        "\n",
        "# Print the number of missing values before and after removal\n",
        "print(\"Train Missing values before removal:\\n\", train_missing_values)\n",
        "print(\"Valid Missing values before removal:\\n\", valid_missing_values)\n",
        "print(\"\\nTrain Missing values after removal:\\n\", train_missing_values_after_removal)\n",
        "print(\"\\nValid Missing values after removal:\\n\", valid_missing_values_after_removal)\n",
        "\n",
        "\n",
        "\n"
      ]
    },
    {
      "cell_type": "code",
      "execution_count": null,
      "metadata": {
        "id": "5NCtKV6H4XgG"
      },
      "outputs": [],
      "source": [
        "# More cleaning process\n",
        "\n",
        "# Dataset has some unreadable images\n",
        "# We will remove those rows with unreadable images\n",
        "# (Identity column has value 'UNREADABLE')\n",
        "\n",
        "# Check for unreadable images\n",
        "# Don't include the rows with unreadable images\n",
        "train = train[train['IDENTITY'] != 'UNREADABLE']\n",
        "valid = valid[valid['IDENTITY'] != 'UNREADABLE']"
      ]
    },
    {
      "cell_type": "code",
      "execution_count": null,
      "metadata": {
        "id": "P9hiTds7u6Hh"
      },
      "outputs": [],
      "source": [
        "# Some names are in lowercase and some are in uppercase\n",
        "# Convert names to uppercase for consistent naming\n",
        "\n",
        "train['IDENTITY'] = train['IDENTITY'].str.upper()\n",
        "valid['IDENTITY'] = valid['IDENTITY'].str.upper()"
      ]
    },
    {
      "cell_type": "code",
      "execution_count": null,
      "metadata": {
        "id": "UT2Vjlle41X8"
      },
      "outputs": [],
      "source": [
        "# Reset the index of the dataframes\n",
        "# After removing some rows, the indices are not in order    \n",
        "\n",
        "train.reset_index(inplace = True, drop=True) \n",
        "valid.reset_index(inplace = True, drop=True)"
      ]
    },
    {
      "cell_type": "code",
      "execution_count": null,
      "metadata": {
        "id": "MFzQN5zD6kJ6"
      },
      "outputs": [],
      "source": [
        "#pre process data (resizing & rotating)\n",
        "def preprocess(image, width=256, height=64):\n",
        "  # Resize the image to the desired width and height.\n",
        "  resized_image = cv2.resize(image, (width, height))\n",
        "\n",
        "  # If the image is smaller than the desired size, pad it with white pixels.\n",
        "  if resized_image.shape[0] < width or resized_image.shape[1] < height:\n",
        "    pad_top = max(0, width - resized_image.shape[0])\n",
        "    pad_bottom = max(0, height - resized_image.shape[1])\n",
        "    pad_left = max(0, width - resized_image.shape[0])\n",
        "    pad_right = max(0, height - resized_image.shape[1])\n",
        "    pad_color = (255, 255, 255)\n",
        "    padded_image = cv2.copyMakeBorder(resized_image, pad_top, pad_bottom, pad_left, pad_right, cv2.BORDER_CONSTANT, value=pad_color)\n",
        "  else:\n",
        "    padded_image = resized_image\n",
        "\n",
        "  # Rotate the image clockwise.\n",
        "  rotated_image = cv2.rotate(padded_image, cv2.ROTATE_90_CLOCKWISE)\n",
        "\n",
        "  return rotated_image\n"
      ]
    },
    {
      "cell_type": "code",
      "execution_count": null,
      "metadata": {
        "colab": {
          "base_uri": "https://localhost:8080/"
        },
        "id": "-uBTygWc96ph",
        "outputId": "4a8353de-078f-4903-a954-a8bce9044762"
      },
      "outputs": [
        {
          "name": "stdout",
          "output_type": "stream",
          "text": [
            "Pre-processed Training images: 330294\n",
            "Pre-processed Validation images: 41280\n"
          ]
        }
      ],
      "source": [
        "# Preview number of data after cleaning process\n",
        "\n",
        "print(\"Pre-processed Training images:\", len(train))\n",
        "print(\"Pre-processed Validation images:\", len(valid))"
      ]
    },
    {
      "cell_type": "code",
      "execution_count": null,
      "metadata": {
        "id": "aiChBEdZ_eRs"
      },
      "outputs": [],
      "source": [
        "# Set the amount of training and validation data\n",
        "# Total training images = 330961\n",
        "# Total validation images = 41370\n",
        "\n",
        "# We only use 30000 images for training and 3000 images for validation because of limited resources\n",
        "# You can change this number to a higher number if you want to train on more data for better accuracy\n",
        "train_images = 30000\n",
        "valid_images= 3000\n",
        "\n"
      ]
    },
    {
      "cell_type": "code",
      "execution_count": null,
      "metadata": {
        "id": "rcHtPH9xEObf"
      },
      "outputs": [],
      "source": [
        "# Create loop to pre-process images and store them in an array\n",
        "\n",
        "train_x = []\n",
        "\n",
        "for i in range(train_images):\n",
        "    #read file\n",
        "    img_dir = '/content/Dataset/train_v2/train/'+train.loc[i, 'FILENAME']\n",
        "    #convert to greyscale\n",
        "    image = cv2.imread(img_dir, cv2.IMREAD_GRAYSCALE)\n",
        "    #pre-process with function preprocess we create before\n",
        "    image = preprocess(image)\n",
        "    #Normalizing the pixel values to the range of 0-1 \n",
        "    image = image/255.\n",
        "    #Append image to train_x\n",
        "    train_x.append(image)\n",
        "\n"
      ]
    },
    {
      "cell_type": "code",
      "execution_count": null,
      "metadata": {
        "id": "6dHzdO5NbB7j"
      },
      "outputs": [],
      "source": [
        "# Do the same for validation data\n",
        "valid_x = []\n",
        "\n",
        "for i in range(valid_images):\n",
        "    img_dir = '/content/Dataset/validation_v2/validation/'+valid.loc[i, 'FILENAME']\n",
        "    image = cv2.imread(img_dir, cv2.IMREAD_GRAYSCALE)\n",
        "    image = preprocess(image)\n",
        "    image = image/255.\n",
        "    valid_x.append(image)"
      ]
    },
    {
      "cell_type": "code",
      "execution_count": null,
      "metadata": {
        "id": "WmA4JpUU2nB0"
      },
      "outputs": [],
      "source": [
        "# #acak urutan data untuk hindari potensi bias atau pattern dari original data\n",
        "# random.shuffle(train_x)\n",
        "# random.shuffle(valid_x)"
      ]
    },
    {
      "cell_type": "code",
      "execution_count": null,
      "metadata": {
        "id": "tFCJ5BiAHHUj"
      },
      "outputs": [],
      "source": [
        "# Reshape the images\n",
        "\n",
        "train_x = np.array(train_x).reshape(-1, 256, 64, 1)\n",
        "valid_x = np.array(valid_x).reshape(-1, 256, 64, 1)"
      ]
    },
    {
      "cell_type": "code",
      "execution_count": null,
      "metadata": {
        "id": "5r56OFTcHIGQ"
      },
      "outputs": [],
      "source": [
        "# Create a list of all the characters that can occur in the names\n",
        "# We will use this to create the character dictionary\n",
        "\n",
        "alphabets = \"ABCDEFGHIJKLMNOPQRSTUVWXYZ-' \"\n",
        "max_str_len = 24 # max length of input labels\n",
        "num_of_characters = len(alphabets) + 1 # +1 for ctc pseudo blank\n",
        "num_of_timestamps = 64 # max length of predicted labels\n",
        "batch_size = 128\n",
        "\n",
        "# Create a dictionary mapping characters to integers\n",
        "def label_to_num(label):\n",
        "    label_num = []\n",
        "    for ch in label:\n",
        "        \n",
        "            label_num.append(alphabets.find(ch) if alphabets.find(ch)!=-1 else alphabets.find('-'))\n",
        "        \n",
        "    return np.array(label_num)\n",
        "\n",
        "# Create a dictionary mapping integers back to characters\n",
        "def num_to_label(num):\n",
        "    ret = \"\"\n",
        "    for ch in num:\n",
        "        if ch == -1:  # CTC Blank\n",
        "            break\n",
        "        else:\n",
        "            ret+=alphabets[ch]\n",
        "    return ret"
      ]
    },
    {
      "cell_type": "code",
      "execution_count": null,
      "metadata": {
        "id": "CjbQnLtBHMsH"
      },
      "outputs": [],
      "source": [
        "# Convert the names to numbers for training and validation data\n",
        "\n",
        "train_y = np.ones([train_images, max_str_len]) * -1\n",
        "train_label_len = np.zeros([train_images, 1])\n",
        "train_input_len = np.ones([train_images, 1]) * (num_of_timestamps-2)\n",
        "train_output = np.zeros([train_images])\n",
        "\n",
        "for i in range(train_images):\n",
        "    train_label_len[i] = len(train.loc[i, 'IDENTITY'])\n",
        "    train_y[i, 0:len(train.loc[i, 'IDENTITY'])]= label_to_num(train.loc[i, 'IDENTITY'])"
      ]
    },
    {
      "cell_type": "code",
      "execution_count": null,
      "metadata": {
        "id": "0H1d6tfyHRv7"
      },
      "outputs": [],
      "source": [
        "valid_y = np.ones([valid_images, max_str_len]) * -1\n",
        "valid_label_len = np.zeros([valid_images, 1])\n",
        "valid_input_len = np.ones([valid_images, 1]) * (num_of_timestamps-2)\n",
        "valid_output = np.zeros([valid_images])\n",
        "\n",
        "for i in range(valid_images):\n",
        "    valid_label_len[i] = len(valid.loc[i, 'IDENTITY'])\n",
        "    valid_y[i, 0:len(valid.loc[i, 'IDENTITY'])]= label_to_num(valid.loc[i, 'IDENTITY'])"
      ]
    },
    {
      "cell_type": "code",
      "execution_count": null,
      "metadata": {
        "colab": {
          "base_uri": "https://localhost:8080/"
        },
        "id": "6Ne3ilEMHYuZ",
        "outputId": "cd8ac08c-f9be-4397-815b-da10efb2f0ef"
      },
      "outputs": [
        {
          "name": "stdout",
          "output_type": "stream",
          "text": [
            "Model: \"model\"\n",
            "_________________________________________________________________\n",
            " Layer (type)                Output Shape              Param #   \n",
            "=================================================================\n",
            " input (InputLayer)          [(None, 256, 64, 1)]      0         \n",
            "                                                                 \n",
            " conv1 (Conv2D)              (None, 256, 64, 32)       320       \n",
            "                                                                 \n",
            " batch_normalization (BatchN  (None, 256, 64, 32)      128       \n",
            " ormalization)                                                   \n",
            "                                                                 \n",
            " activation (Activation)     (None, 256, 64, 32)       0         \n",
            "                                                                 \n",
            " max1 (MaxPooling2D)         (None, 128, 32, 32)       0         \n",
            "                                                                 \n",
            " conv2 (Conv2D)              (None, 128, 32, 64)       18496     \n",
            "                                                                 \n",
            " batch_normalization_1 (Batc  (None, 128, 32, 64)      256       \n",
            " hNormalization)                                                 \n",
            "                                                                 \n",
            " activation_1 (Activation)   (None, 128, 32, 64)       0         \n",
            "                                                                 \n",
            " max2 (MaxPooling2D)         (None, 64, 16, 64)        0         \n",
            "                                                                 \n",
            " dropout (Dropout)           (None, 64, 16, 64)        0         \n",
            "                                                                 \n",
            " conv3 (Conv2D)              (None, 64, 16, 128)       73856     \n",
            "                                                                 \n",
            " batch_normalization_2 (Batc  (None, 64, 16, 128)      512       \n",
            " hNormalization)                                                 \n",
            "                                                                 \n",
            " activation_2 (Activation)   (None, 64, 16, 128)       0         \n",
            "                                                                 \n",
            " max3 (MaxPooling2D)         (None, 64, 8, 128)        0         \n",
            "                                                                 \n",
            " dropout_1 (Dropout)         (None, 64, 8, 128)        0         \n",
            "                                                                 \n",
            " reshape (Reshape)           (None, 64, 1024)          0         \n",
            "                                                                 \n",
            " dense1 (Dense)              (None, 64, 64)            65600     \n",
            "                                                                 \n",
            " lstm1 (Bidirectional)       (None, 64, 512)           657408    \n",
            "                                                                 \n",
            " lstm2 (Bidirectional)       (None, 64, 512)           1574912   \n",
            "                                                                 \n",
            " dense2 (Dense)              (None, 64, 30)            15390     \n",
            "                                                                 \n",
            " softmax (Activation)        (None, 64, 30)            0         \n",
            "                                                                 \n",
            "=================================================================\n",
            "Total params: 2,406,878\n",
            "Trainable params: 2,406,430\n",
            "Non-trainable params: 448\n",
            "_________________________________________________________________\n"
          ]
        }
      ],
      "source": [
        "# Define input shape\n",
        "input_image = Input(shape=(256, 64, 1), name='input')\n",
        "\n",
        "# Convolutional layers\n",
        "inner = Conv2D(32, (3, 3), padding='same', name='conv1', kernel_initializer='he_normal')(input_image)\n",
        "inner = BatchNormalization()(inner)\n",
        "inner = Activation('relu')(inner)\n",
        "inner = MaxPooling2D(pool_size=(2, 2), name='max1')(inner)\n",
        "\n",
        "inner = Conv2D(64, (3, 3), padding='same', name='conv2', kernel_initializer='he_normal')(inner)\n",
        "inner = BatchNormalization()(inner)\n",
        "inner = Activation('relu')(inner)\n",
        "inner = MaxPooling2D(pool_size=(2, 2), name='max2')(inner)\n",
        "inner = Dropout(0.3)(inner)\n",
        "\n",
        "inner = Conv2D(128, (3, 3), padding='same', name='conv3', kernel_initializer='he_normal')(inner)\n",
        "inner = BatchNormalization()(inner)\n",
        "inner = Activation('relu')(inner)\n",
        "inner = MaxPooling2D(pool_size=(1, 2), name='max3')(inner)\n",
        "inner = Dropout(0.3)(inner)\n",
        "\n",
        "# CNN to RNN transition\n",
        "inner = Reshape(target_shape=((64, 1024)), name='reshape')(inner)\n",
        "inner = Dense(64, activation='relu', kernel_initializer='he_normal', name='dense1')(inner)\n",
        "\n",
        "# Bi-RNN layers\n",
        "inner = Bidirectional(LSTM(256, return_sequences=True), name='lstm1')(inner)\n",
        "inner = Bidirectional(LSTM(256, return_sequences=True), name='lstm2')(inner)\n",
        "\n",
        "# Output layer\n",
        "num_of_characters = num_of_characters = len(ALPHABETS) + 1\n",
        "inner = Dense(num_of_characters, kernel_initializer='he_normal', name='dense2')(inner)\n",
        "y_pred = Activation('softmax', name='softmax')(inner)\n",
        "\n",
        "# Create the model\n",
        "model = Model(inputs=input_image, outputs=y_pred)\n",
        "model.summary()"
      ]
    },
    {
      "cell_type": "code",
      "execution_count": null,
      "metadata": {
        "id": "i-Celz7NHbKe"
      },
      "outputs": [],
      "source": [
        "\n",
        "# CTC loss function\n",
        "def ctc_lambda_func(args):\n",
        "    \"\"\"\n",
        "    Compute the CTC (Connectionist Temporal Classification) loss function.\n",
        "    \n",
        "    Args:\n",
        "        args (tuple): Tuple containing y_pred, labels, input_length, and label_length.\n",
        "            y_pred (tensor): Predicted output from the model.\n",
        "            labels (tensor): True labels for the input samples.\n",
        "            input_length (tensor): Length of input sequence.\n",
        "            label_length (tensor): Length of true labels.\n",
        "    \n",
        "    Returns:\n",
        "        tensor: CTC loss value.\n",
        "    \"\"\"\n",
        "    y_pred, labels, input_length, label_length = args\n",
        "    \n",
        "    # Exclude the first two elements from y_pred (CTC pseudo blank)\n",
        "    y_pred = y_pred[:, 2:, :]\n",
        "    \n",
        "    # Compute CTC batch cost\n",
        "    ctc_loss = K.ctc_batch_cost(labels, y_pred, input_length, label_length)\n",
        "    \n",
        "    return ctc_loss\n"
      ]
    },
    {
      "cell_type": "code",
      "execution_count": null,
      "metadata": {
        "id": "eEK6J5gmHjqR"
      },
      "outputs": [],
      "source": [
        "# Define inputs for the model\n",
        "labels = Input(name='gtruth_labels', shape=[max_str_len], dtype='float32')\n",
        "input_length = Input(name='input_length', shape=[1], dtype='int64')\n",
        "label_length = Input(name='label_length', shape=[1], dtype='int64')\n",
        "\n",
        "# Compute CTC loss using the custom lambda function\n",
        "ctc_loss = Lambda(ctc_lambda_func, output_shape=(1,), name='ctc')([y_pred, labels, input_length, label_length])\n",
        "\n",
        "# Create the final model with inputs and outputs\n",
        "model_final = Model(inputs=[input_image, labels, input_length, label_length], outputs=ctc_loss)"
      ]
    },
    {
      "cell_type": "code",
      "execution_count": null,
      "metadata": {
        "colab": {
          "base_uri": "https://localhost:8080/"
        },
        "id": "sebGGDv1Hmo3",
        "outputId": "c1580dca-979d-4364-de5b-6a453069727a"
      },
      "outputs": [
        {
          "name": "stdout",
          "output_type": "stream",
          "text": [
            "Epoch 1/60\n",
            "235/235 [==============================] - 268s 1s/step - loss: 19.7934 - val_loss: 20.3290\n",
            "Epoch 2/60\n",
            "235/235 [==============================] - 261s 1s/step - loss: 18.7386 - val_loss: 18.1215\n",
            "Epoch 3/60\n",
            "235/235 [==============================] - 261s 1s/step - loss: 17.3354 - val_loss: 16.7903\n",
            "Epoch 4/60\n",
            "235/235 [==============================] - 261s 1s/step - loss: 15.5236 - val_loss: 15.5768\n",
            "Epoch 5/60\n",
            "235/235 [==============================] - 260s 1s/step - loss: 13.4368 - val_loss: 14.0825\n",
            "Epoch 6/60\n",
            "235/235 [==============================] - 261s 1s/step - loss: 11.0028 - val_loss: 10.0897\n",
            "Epoch 7/60\n",
            "235/235 [==============================] - 261s 1s/step - loss: 8.8764 - val_loss: 8.0957\n",
            "Epoch 8/60\n",
            "235/235 [==============================] - 260s 1s/step - loss: 7.4607 - val_loss: 6.7735\n",
            "Epoch 9/60\n",
            "235/235 [==============================] - 261s 1s/step - loss: 6.5411 - val_loss: 6.4514\n",
            "Epoch 10/60\n",
            "235/235 [==============================] - 261s 1s/step - loss: 5.8583 - val_loss: 5.5426\n",
            "Epoch 11/60\n",
            "235/235 [==============================] - 261s 1s/step - loss: 5.3092 - val_loss: 4.7944\n",
            "Epoch 12/60\n",
            "235/235 [==============================] - 260s 1s/step - loss: 4.8704 - val_loss: 4.4305\n",
            "Epoch 13/60\n",
            "235/235 [==============================] - 261s 1s/step - loss: 4.5097 - val_loss: 4.1177\n",
            "Epoch 14/60\n",
            "235/235 [==============================] - 260s 1s/step - loss: 4.2036 - val_loss: 4.0073\n",
            "Epoch 15/60\n",
            "235/235 [==============================] - 260s 1s/step - loss: 3.9540 - val_loss: 3.7984\n",
            "Epoch 16/60\n",
            "235/235 [==============================] - 261s 1s/step - loss: 3.7270 - val_loss: 3.4322\n",
            "Epoch 17/60\n",
            "235/235 [==============================] - 261s 1s/step - loss: 3.5343 - val_loss: 3.3837\n",
            "Epoch 18/60\n",
            "235/235 [==============================] - 261s 1s/step - loss: 3.3847 - val_loss: 3.4173\n",
            "Epoch 19/60\n",
            "235/235 [==============================] - 261s 1s/step - loss: 3.2289 - val_loss: 3.1114\n",
            "Epoch 20/60\n",
            "235/235 [==============================] - 261s 1s/step - loss: 3.1141 - val_loss: 3.2802\n",
            "Epoch 21/60\n",
            "235/235 [==============================] - 261s 1s/step - loss: 2.9907 - val_loss: 3.0068\n",
            "Epoch 22/60\n",
            "235/235 [==============================] - 261s 1s/step - loss: 2.8578 - val_loss: 2.9445\n",
            "Epoch 23/60\n",
            "235/235 [==============================] - 261s 1s/step - loss: 2.7720 - val_loss: 2.7005\n",
            "Epoch 24/60\n",
            "235/235 [==============================] - 261s 1s/step - loss: 2.6871 - val_loss: 2.7664\n",
            "Epoch 25/60\n",
            "235/235 [==============================] - 260s 1s/step - loss: 2.6102 - val_loss: 3.5672\n",
            "Epoch 26/60\n",
            "235/235 [==============================] - 260s 1s/step - loss: 2.5214 - val_loss: 2.6145\n",
            "Epoch 27/60\n",
            "235/235 [==============================] - 261s 1s/step - loss: 2.4535 - val_loss: 2.6244\n",
            "Epoch 28/60\n",
            "235/235 [==============================] - 261s 1s/step - loss: 2.3840 - val_loss: 2.4760\n",
            "Epoch 29/60\n",
            "235/235 [==============================] - 260s 1s/step - loss: 2.3292 - val_loss: 2.4452\n",
            "Epoch 30/60\n",
            "235/235 [==============================] - 261s 1s/step - loss: 2.2721 - val_loss: 2.4704\n",
            "Epoch 31/60\n",
            "235/235 [==============================] - 261s 1s/step - loss: 2.2004 - val_loss: 2.3947\n",
            "Epoch 32/60\n",
            "235/235 [==============================] - 261s 1s/step - loss: 2.1531 - val_loss: 2.3379\n",
            "Epoch 33/60\n",
            "235/235 [==============================] - 261s 1s/step - loss: 2.1074 - val_loss: 2.3111\n",
            "Epoch 34/60\n",
            "235/235 [==============================] - 261s 1s/step - loss: 2.0566 - val_loss: 2.3462\n",
            "Epoch 35/60\n",
            "235/235 [==============================] - 261s 1s/step - loss: 2.0125 - val_loss: 2.2964\n",
            "Epoch 36/60\n",
            "235/235 [==============================] - 261s 1s/step - loss: 1.9584 - val_loss: 2.2918\n",
            "Epoch 37/60\n",
            "235/235 [==============================] - 261s 1s/step - loss: 1.9190 - val_loss: 2.2870\n",
            "Epoch 38/60\n",
            "235/235 [==============================] - 260s 1s/step - loss: 1.8799 - val_loss: 2.2787\n",
            "Epoch 39/60\n",
            "235/235 [==============================] - 261s 1s/step - loss: 1.8286 - val_loss: 2.2969\n",
            "Epoch 40/60\n",
            "235/235 [==============================] - 261s 1s/step - loss: 1.7954 - val_loss: 2.2297\n",
            "Epoch 41/60\n",
            "235/235 [==============================] - 261s 1s/step - loss: 1.7562 - val_loss: 2.1969\n",
            "Epoch 42/60\n",
            "235/235 [==============================] - 261s 1s/step - loss: 1.7324 - val_loss: 2.1680\n",
            "Epoch 43/60\n",
            "235/235 [==============================] - 260s 1s/step - loss: 1.6987 - val_loss: 2.1822\n",
            "Epoch 44/60\n",
            "235/235 [==============================] - 261s 1s/step - loss: 1.6517 - val_loss: 2.2233\n",
            "Epoch 45/60\n",
            "235/235 [==============================] - 260s 1s/step - loss: 1.6199 - val_loss: 2.1666\n",
            "Epoch 46/60\n",
            "235/235 [==============================] - 260s 1s/step - loss: 1.5937 - val_loss: 2.1295\n",
            "Epoch 47/60\n",
            "235/235 [==============================] - 261s 1s/step - loss: 1.5514 - val_loss: 2.1844\n",
            "Epoch 48/60\n",
            "235/235 [==============================] - 260s 1s/step - loss: 1.5344 - val_loss: 2.2000\n",
            "Epoch 49/60\n",
            "235/235 [==============================] - 260s 1s/step - loss: 1.5009 - val_loss: 2.1287\n",
            "Epoch 50/60\n",
            "235/235 [==============================] - 261s 1s/step - loss: 1.4599 - val_loss: 2.1642\n",
            "Epoch 51/60\n",
            "235/235 [==============================] - 260s 1s/step - loss: 1.4341 - val_loss: 2.2056\n",
            "Epoch 52/60\n",
            "235/235 [==============================] - 261s 1s/step - loss: 1.4033 - val_loss: 2.1702\n",
            "Epoch 53/60\n",
            "235/235 [==============================] - 261s 1s/step - loss: 1.3824 - val_loss: 2.1862\n",
            "Epoch 54/60\n",
            "235/235 [==============================] - 261s 1s/step - loss: 1.3554 - val_loss: 2.1802\n",
            "Epoch 55/60\n",
            "235/235 [==============================] - 261s 1s/step - loss: 1.3223 - val_loss: 2.1356\n",
            "Epoch 56/60\n",
            "235/235 [==============================] - 261s 1s/step - loss: 1.2942 - val_loss: 2.1656\n",
            "Epoch 57/60\n",
            "235/235 [==============================] - 261s 1s/step - loss: 1.2734 - val_loss: 2.1894\n",
            "Epoch 58/60\n",
            "235/235 [==============================] - 260s 1s/step - loss: 1.2464 - val_loss: 2.1656\n",
            "Epoch 59/60\n",
            "235/235 [==============================] - 260s 1s/step - loss: 1.2185 - val_loss: 2.1720\n",
            "Epoch 60/60\n",
            "235/235 [==============================] - 260s 1s/step - loss: 1.1965 - val_loss: 2.2131\n"
          ]
        },
        {
          "data": {
            "text/plain": [
              "<keras.callbacks.History at 0x7f63705562c0>"
            ]
          },
          "execution_count": 27,
          "metadata": {},
          "output_type": "execute_result"
        }
      ],
      "source": [
        "# Use a dummy lambda function for the loss calculation\n",
        "model_final.compile(loss={'ctc': lambda y_true, y_pred: y_pred}, optimizer=Adam(lr=0.0001))\n",
        "\n",
        "# Fit the model to the training data\n",
        "history = model_final.fit(\n",
        "    x=[train_x, train_y, train_input_len, train_label_len],\n",
        "    y=train_output,\n",
        "    validation_data=([valid_x, valid_y, valid_input_len, valid_label_len], valid_output),\n",
        "    epochs=60,\n",
        "    batch_size=128\n",
        ")"
      ]
    },
    {
      "cell_type": "code",
      "execution_count": null,
      "metadata": {
        "id": "LiGc7yF1fvdr"
      },
      "outputs": [],
      "source": [
        "def processImage(img):\n",
        "    canvas_height, canvas_width = 64, 256\n",
        "    canvas = np.ones((canvas_height, canvas_width), dtype=np.uint8) * 255  # Create blank white canvas\n",
        "    \n",
        "    img_height, img_width = img.shape[:2]\n",
        "    img_aspect_ratio = img_width / img_height\n",
        "    \n",
        "    if img_aspect_ratio > canvas_width / canvas_height:\n",
        "        # Image is wider, so limit the width to fit within the canvas\n",
        "        resized_width = int(canvas_width * 0.8)  # Adjust the scale factor as desired\n",
        "        resized_height = int(resized_width / img_aspect_ratio)\n",
        "    else:\n",
        "        # Image is taller or has the same aspect ratio, so limit the height to fit within the canvas\n",
        "        resized_height = int(canvas_height * 0.8)  # Adjust the scale factor as desired\n",
        "        resized_width = int(resized_height * img_aspect_ratio)\n",
        "    \n",
        "    resized_img = cv2.resize(img, (resized_width, resized_height))\n",
        "    \n",
        "    x = (canvas_width - resized_width) // 2  # Calculate x-coordinate for centering the image\n",
        "    y = (canvas_height - resized_height) // 2  # Calculate y-coordinate for centering the image\n",
        "    \n",
        "    x_end = x + resized_width\n",
        "    y_end = y + resized_height\n",
        "    \n",
        "    canvas[y:y_end, x:x_end] = resized_img\n",
        "    \n",
        "    return canvas"
      ]
    },
    {
      "cell_type": "code",
      "execution_count": null,
      "metadata": {
        "colab": {
          "base_uri": "https://localhost:8080/",
          "height": 174
        },
        "id": "SQI2-ARS_3wK",
        "outputId": "3ddccd1a-4d98-41a3-cb54-c12b5aa4e2eb"
      },
      "outputs": [
        {
          "name": "stdout",
          "output_type": "stream",
          "text": [
            "1/1 [==============================] - 0s 42ms/step\n"
          ]
        },
        {
          "data": {
            "image/png": "[encoded data removed]",
            "text/plain": [
              "<Figure size 500x500 with 1 Axes>"
            ]
          },
          "metadata": {},
          "output_type": "display_data"
        }
      ],
      "source": [
        "plt.figure(figsize=(5, 5))  # Adjust the figure size accordingly\n",
        "\n",
        "ax = plt.subplot(1, 1, 1)  # Use a single subplot\n",
        "img_dir = 'rezos.png'  # Path to your own image file\n",
        "\n",
        "image = cv2.imread(img_dir, cv2.IMREAD_GRAYSCALE)\n",
        "plt.imshow(image, cmap='gray')\n",
        "\n",
        "image = preprocess(image)\n",
        "image = image / 255.\n",
        "pred = model.predict(image.reshape(1, 256, 64, 1))\n",
        "decoded = K.get_value(K.ctc_decode(pred, input_length=np.ones(pred.shape[0]) * pred.shape[1],\n",
        "                                   greedy=True)[0][0])\n",
        "plt.title(num_to_label(decoded[0]), fontsize=12)\n",
        "plt.axis('off')\n",
        "\n",
        "plt.subplots_adjust(wspace=0.2, hspace=-0.8)\n",
        "\n",
        "plt.show()"
      ]
    },
    {
      "cell_type": "code",
      "execution_count": null,
      "metadata": {
        "colab": {
          "base_uri": "https://localhost:8080/",
          "height": 287
        },
        "id": "4-dUiyad576s",
        "outputId": "3e1929b7-4487-494e-f273-7d3b83e6c6c8"
      },
      "outputs": [
        {
          "name": "stdout",
          "output_type": "stream",
          "text": [
            "1/1 [==============================] - 0s 38ms/step\n",
            "1/1 [==============================] - 0s 39ms/step\n",
            "1/1 [==============================] - 0s 39ms/step\n",
            "1/1 [==============================] - 0s 39ms/step\n",
            "1/1 [==============================] - 0s 39ms/step\n",
            "1/1 [==============================] - 0s 40ms/step\n"
          ]
        },
        {
          "data": {
            "image/png": "[encoded data removed]",
            "text/plain": [
              "<Figure size 1500x1000 with 6 Axes>"
            ]
          },
          "metadata": {},
          "output_type": "display_data"
        }
      ],
      "source": [
        "test = pd.read_csv('/content/Dataset/written_name_test_v2.csv')\n",
        "\n",
        "plt.figure(figsize=(15, 10))\n",
        "for i in range(6):\n",
        "    ax = plt.subplot(2, 3, i+1)\n",
        "    img_dir = '/content/Dataset/test_v2/test/'+test.loc[i, 'FILENAME']\n",
        "    image = cv2.imread(img_dir, cv2.IMREAD_GRAYSCALE)\n",
        "    plt.imshow(image, cmap='gray')\n",
        "    \n",
        "    image = preprocess(image)\n",
        "    image = image/255.\n",
        "    pred = model.predict(image.reshape(1, 256, 64, 1))\n",
        "    decoded = K.get_value(K.ctc_decode(pred, input_length=np.ones(pred.shape[0])*pred.shape[1], \n",
        "                                       greedy=True)[0][0])\n",
        "    plt.title(\"Predicted: \" + num_to_label(decoded[0]), fontsize=12)\n",
        "    plt.axis('off')\n",
        "    \n",
        "plt.subplots_adjust(wspace=0.2, hspace=-0.8)"
      ]
    },
    {
      "cell_type": "code",
      "execution_count": null,
      "metadata": {
        "colab": {
          "base_uri": "https://localhost:8080/",
          "height": 163
        },
        "id": "2j5yFY7npfW8",
        "outputId": "9e4cc28e-2849-4247-f68b-abebc28400c4"
      },
      "outputs": [
        {
          "name": "stdout",
          "output_type": "stream",
          "text": [
            "1/1 [==============================] - 0s 42ms/step\n"
          ]
        },
        {
          "data": {
            "image/png": "[encoded data removed]",
            "text/plain": [
              "<Figure size 500x500 with 1 Axes>"
            ]
          },
          "metadata": {},
          "output_type": "display_data"
        }
      ],
      "source": [
        "test = pd.read_csv('/content/Dataset/written_name_test_v2.csv')\n",
        "\n",
        "plt.figure(figsize=(5, 5))  # Adjust the figure size accordingly\n",
        "i = 142  # Select the index of the image you want to feed\n",
        "\n",
        "ax = plt.subplot(1, 1, 1)  # Use a single subplot\n",
        "img_dir = '/content/Dataset/test_v2/test/' + test.loc[i, 'FILENAME']\n",
        "image = cv2.imread(img_dir, cv2.IMREAD_GRAYSCALE)\n",
        "plt.imshow(image, cmap='gray')\n",
        "\n",
        "image = preprocess(image)\n",
        "image = image / 255.\n",
        "pred = model.predict(image.reshape(1, 256, 64, 1))\n",
        "decoded = K.get_value(K.ctc_decode(pred, input_length=np.ones(pred.shape[0]) * pred.shape[1],\n",
        "                                   greedy=True)[0][0])\n",
        "plt.title(num_to_label(decoded[0]), fontsize=12)\n",
        "plt.axis('off')\n",
        "\n",
        "plt.subplots_adjust(wspace=0.2, hspace=-0.8)"
      ]
    },
    {
      "cell_type": "code",
      "execution_count": null,
      "metadata": {
        "colab": {
          "base_uri": "https://localhost:8080/"
        },
        "id": "rLa8PH-7Zezr",
        "outputId": "a9e7a4cf-784e-4cad-cf45-8671bab07872"
      },
      "outputs": [
        {
          "name": "stderr",
          "output_type": "stream",
          "text": [
            "WARNING:tensorflow:Compiled the loaded model, but the compiled metrics have yet to be built. `model.compile_metrics` will be empty until you train or evaluate the model.\n"
          ]
        }
      ],
      "source": [
        "# Save the model\n",
        "# Change the name and path accordingly\n",
        "model.save('model.h5')"
      ]
    },
    {
      "cell_type": "code",
      "execution_count": null,
      "metadata": {
        "colab": {
          "base_uri": "https://localhost:8080/",
          "height": 245
        },
        "id": "atAZlaHSojh8",
        "outputId": "a818d781-fe2e-456e-a771-ed3e1cd6ab6d"
      },
      "outputs": [],
      "source": [
        "# Plot the chart for accuracy and loss on both training and validation\n",
        "acc = model_final.history['accuracy']\n",
        "val_acc = model_final.history['val_accuracy']\n",
        "loss = model_final.history['loss']\n",
        "val_loss = model_final.history['val_loss']\n",
        "\n",
        "epochs = range(len(acc))\n",
        "\n",
        "plt.plot(epochs, acc, 'r', label='Training accuracy')\n",
        "plt.plot(epochs, val_acc, 'b', label='Validation accuracy')\n",
        "plt.title('Training and validation accuracy')\n",
        "plt.legend()\n",
        "plt.figure()\n",
        "\n",
        "plt.plot(epochs, loss, 'r', label='Training Loss')\n",
        "plt.plot(epochs, val_loss, 'b', label='Validation Loss')\n",
        "plt.title('Training and validation loss')\n",
        "plt.legend()\n",
        "\n",
        "plt.show()"
      ]
    }
  ],
  "metadata": {
    "accelerator": "GPU",
    "colab": {
      "gpuType": "T4",
      "history_visible": true,
      "provenance": []
    },
    "kernelspec": {
      "display_name": "Python 3",
      "name": "python3"
    },
    "language_info": {
      "name": "python"
    }
  },
  "nbformat": 4,
  "nbformat_minor": 0
}
